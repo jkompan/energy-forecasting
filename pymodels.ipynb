{
  "cells": [
    {
      "cell_type": "code",
      "execution_count": null,
      "metadata": {
        "id": "afTs1HJPK-w5"
      },
      "outputs": [],
      "source": [
        "import tensorflow as tf\n",
        "import os\n",
        "import numpy as np\n",
        "import pandas as pd\n",
        "import matplotlib.pyplot as plt"
      ]
    },
    {
      "cell_type": "code",
      "execution_count": null,
      "metadata": {
        "id": "v7quVBrRN6MU"
      },
      "outputs": [],
      "source": [
        "from sklearn.preprocessing import MinMaxScaler\n",
        "from sklearn.metrics import mean_squared_error\n",
        "from keras.models import Sequential\n",
        "from keras.layers import Dense, LSTM, Dropout"
      ]
    },
    {
      "cell_type": "code",
      "execution_count": null,
      "metadata": {
        "id": "BTNweaOv6DFr"
      },
      "outputs": [],
      "source": [
        "DATA = pd.read_csv('data.csv')"
      ]
    },
    {
      "cell_type": "code",
      "execution_count": null,
      "metadata": {
        "id": "6SBsgPBkWYqR"
      },
      "outputs": [],
      "source": [
        "DATA.index = pd.to_datetime(DATA['Time'], format='%Y-%m-%d %H:%M:%S')\n",
        "train_set, test_set = DATA.loc[:'2018-12-31'], DATA.loc['2019-01-01':]\n",
        "ntrain = len(train_set)\n",
        "ntest = len(test_set)"
      ]
    },
    {
      "cell_type": "code",
      "execution_count": null,
      "metadata": {
        "id": "mNcaeNX_NidF"
      },
      "outputs": [],
      "source": [
        "# DO NOT RUN\n",
        "#lstm_forecast = np.zeros((ntest, 3))\n",
        "#lstm_forecast24 = np.zeros((ntest-23,3))"
      ]
    },
    {
      "cell_type": "code",
      "execution_count": null,
      "metadata": {
        "id": "TNvcQAjGNeMv"
      },
      "outputs": [],
      "source": [
        "\n",
        "lstm_forecast24 = np.genfromtxt('lstm_forecast24.csv', delimiter=',')"
      ]
    },
    {
      "cell_type": "markdown",
      "metadata": {
        "id": "Kl1TgBg0LiNn"
      },
      "source": [
        "# LSTM"
      ]
    },
    {
      "cell_type": "markdown",
      "metadata": {
        "id": "b9ItjK7yQIVf"
      },
      "source": [
        "## Univariate LSTM"
      ]
    },
    {
      "cell_type": "markdown",
      "metadata": {
        "id": "Utx45zSQHA_V"
      },
      "source": [
        "### h=1"
      ]
    },
    {
      "cell_type": "code",
      "execution_count": null,
      "metadata": {
        "colab": {
          "base_uri": "https://localhost:8080/"
        },
        "id": "p-MIp5mdyRRy",
        "outputId": "7aa38078-3354-40e9-9990-a0f8c3f1b68b"
      },
      "outputs": [
        {
          "name": "stdout",
          "output_type": "stream",
          "text": [
            "(35040, 24, 1) (35040,)\n"
          ]
        }
      ],
      "source": [
        "scaler = MinMaxScaler()\n",
        "# univariate\n",
        "scaled = scaler.fit_transform(DATA[['Demand']])\n",
        "\n",
        "# create a proper input (X) tensor & output (y) vector\n",
        "\n",
        "X = []\n",
        "y = []\n",
        "\n",
        "horizon = 1     # forecast horizon\n",
        "nlags = 24      # number of lags used for forecasting\n",
        "\n",
        "for i in range(nlags, len(scaled)-horizon+1):\n",
        "    X.append(scaled[i-nlags:i, :])\n",
        "    y.append(scaled[i+horizon-1, 0])\n",
        "\n",
        "X, y = np.array(X), np.array(y)\n",
        "\n",
        "print(X.shape, y.shape)\n",
        "xdim = X.shape[2]\n",
        "X_train, y_train = X[:(ntrain-nlags)], y[:(ntrain-nlags)]\n",
        "X_test, y_test = X[(ntrain-nlags):], y[(ntrain-nlags):]"
      ]
    },
    {
      "cell_type": "code",
      "execution_count": null,
      "metadata": {
        "id": "Rh06Z4V9HZaU"
      },
      "outputs": [],
      "source": [
        "# LSTM neural network\n",
        "model = Sequential()\n",
        "model.add(LSTM(64, activation='relu', input_shape=(nlags, xdim), return_sequences=True))\n",
        "model.add(Dropout(0.2))\n",
        "model.add(LSTM(32, activation='relu', return_sequences=False))\n",
        "model.add(Dropout(0.2))\n",
        "model.add(Dense(1, 'linear'))\n",
        "\n",
        "model.compile(optimizer='adam', loss='mse')\n",
        "fit = model.fit(X_train, y_train, epochs=25, batch_size=32, validation_split=0.1)\n",
        "\n",
        "loss = np.asarray(fit.history['loss'])\n",
        "plt.plot(fit.history['loss'], label='Training loss')\n",
        "plt.plot(fit.history['val_loss'], label='Validation loss')\n",
        "plt.legend()\n",
        "predicted = model.predict(X_test)\n",
        "to_inverse = np.repeat(predicted, xdim, axis=-1)\n",
        "uni1 = scaler.inverse_transform(to_inverse)[:,0]"
      ]
    },
    {
      "cell_type": "code",
      "execution_count": null,
      "metadata": {
        "colab": {
          "base_uri": "https://localhost:8080/",
          "height": 1000
        },
        "id": "EAMCa52C6-LW",
        "outputId": "21f3247e-74c2-4cb5-ac39-a2d51c7ddad7"
      },
      "outputs": [
        {
          "name": "stdout",
          "output_type": "stream",
          "text": [
            "Epoch 1/25\n",
            "740/740 [==============================] - 43s 54ms/step - loss: 0.0173 - val_loss: 0.0037\n",
            "Epoch 2/25\n",
            "740/740 [==============================] - 50s 67ms/step - loss: 0.0053 - val_loss: 0.0021\n",
            "Epoch 3/25\n",
            "740/740 [==============================] - 42s 57ms/step - loss: 0.0038 - val_loss: 0.0016\n",
            "Epoch 4/25\n",
            "740/740 [==============================] - 38s 52ms/step - loss: 0.0028 - val_loss: 0.0016\n",
            "Epoch 5/25\n",
            "740/740 [==============================] - 46s 62ms/step - loss: 0.0024 - val_loss: 0.0014\n",
            "Epoch 6/25\n",
            "740/740 [==============================] - 38s 51ms/step - loss: 0.0019 - val_loss: 0.0013\n",
            "Epoch 7/25\n",
            "740/740 [==============================] - 35s 47ms/step - loss: 0.0017 - val_loss: 6.8376e-04\n",
            "Epoch 8/25\n",
            "740/740 [==============================] - 43s 58ms/step - loss: 0.0015 - val_loss: 8.7974e-04\n",
            "Epoch 9/25\n",
            "740/740 [==============================] - 52s 71ms/step - loss: 0.0014 - val_loss: 5.7893e-04\n",
            "Epoch 10/25\n",
            "740/740 [==============================] - 37s 50ms/step - loss: 0.0013 - val_loss: 6.6244e-04\n",
            "Epoch 11/25\n",
            "740/740 [==============================] - 37s 50ms/step - loss: 0.0012 - val_loss: 5.8628e-04\n",
            "Epoch 12/25\n",
            "740/740 [==============================] - 40s 54ms/step - loss: 0.0011 - val_loss: 4.6545e-04\n",
            "Epoch 13/25\n",
            "740/740 [==============================] - 34s 47ms/step - loss: 0.0011 - val_loss: 5.6737e-04\n",
            "Epoch 14/25\n",
            "740/740 [==============================] - 35s 48ms/step - loss: 0.0010 - val_loss: 0.0010\n",
            "Epoch 15/25\n",
            "740/740 [==============================] - 35s 47ms/step - loss: 0.0010 - val_loss: 4.0398e-04\n",
            "Epoch 16/25\n",
            "740/740 [==============================] - 35s 47ms/step - loss: 9.8201e-04 - val_loss: 4.5486e-04\n",
            "Epoch 17/25\n",
            "740/740 [==============================] - 35s 47ms/step - loss: 9.5180e-04 - val_loss: 5.5759e-04\n",
            "Epoch 18/25\n",
            "740/740 [==============================] - 34s 47ms/step - loss: 9.4899e-04 - val_loss: 0.0010\n",
            "Epoch 19/25\n",
            "740/740 [==============================] - 34s 46ms/step - loss: 9.2081e-04 - val_loss: 4.2903e-04\n",
            "Epoch 20/25\n",
            "740/740 [==============================] - 35s 47ms/step - loss: 8.9783e-04 - val_loss: 4.1772e-04\n",
            "Epoch 21/25\n",
            "740/740 [==============================] - 34s 46ms/step - loss: 8.7661e-04 - val_loss: 4.1092e-04\n",
            "Epoch 22/25\n",
            "740/740 [==============================] - 35s 47ms/step - loss: 8.6859e-04 - val_loss: 3.7039e-04\n",
            "Epoch 23/25\n",
            "740/740 [==============================] - 35s 47ms/step - loss: 8.7068e-04 - val_loss: 4.4927e-04\n",
            "Epoch 24/25\n",
            "740/740 [==============================] - 35s 47ms/step - loss: 8.2266e-04 - val_loss: 3.6686e-04\n",
            "Epoch 25/25\n",
            "740/740 [==============================] - 35s 47ms/step - loss: 8.3928e-04 - val_loss: 3.6385e-04\n"
          ]
        },
        {
          "data": {
            "image/png": "[encoded data removed]",
            "text/plain": [
              "<Figure size 432x288 with 1 Axes>"
            ]
          },
          "metadata": {},
          "output_type": "display_data"
        }
      ],
      "source": [
        "# larger\n",
        "# LSTM neural network\n",
        "model = Sequential()\n",
        "model.add(LSTM(128, activation='relu', input_shape=(nlags, xdim), return_sequences=True))\n",
        "model.add(Dropout(0.2))\n",
        "model.add(LSTM(64, activation='relu', return_sequences=False))\n",
        "model.add(Dropout(0.2))\n",
        "model.add(Dense(1, 'linear'))\n",
        "\n",
        "model.compile(optimizer='adam', loss='mse')\n",
        "\n",
        "fit = model.fit(X_train, y_train, epochs=25, batch_size=32, validation_split=0.1)\n",
        "\n",
        "loss = np.asarray(fit.history['loss'])\n",
        "plt.plot(fit.history['loss'], label='Training loss')\n",
        "plt.plot(fit.history['val_loss'], label='Validation loss')\n",
        "plt.legend()\n",
        "\n",
        "predicted = model.predict(X_test)\n",
        "to_inverse = np.repeat(predicted, xdim, axis=-1)\n",
        "uni2 = scaler.inverse_transform(to_inverse)[:,0]"
      ]
    },
    {
      "cell_type": "code",
      "execution_count": null,
      "metadata": {
        "id": "FdyesKfhDkTH"
      },
      "outputs": [],
      "source": [
        "lstm_forecast[:,0] = uni2\n",
        "np.savetxt('lstm_forecast.csv', lstm_forecast, delimiter=\",\")"
      ]
    },
    {
      "cell_type": "markdown",
      "metadata": {
        "id": "sBhV84wYG4G9"
      },
      "source": [
        "### h=24"
      ]
    },
    {
      "cell_type": "code",
      "execution_count": null,
      "metadata": {
        "colab": {
          "base_uri": "https://localhost:8080/"
        },
        "id": "7lV1IN6a5xOb",
        "outputId": "b250e7d9-04dc-4fb9-cb76-74b3a620707b"
      },
      "outputs": [
        {
          "output_type": "stream",
          "name": "stdout",
          "text": [
            "(35017, 24, 1) (35017,)\n"
          ]
        }
      ],
      "source": [
        "scaler = MinMaxScaler()\n",
        "# univariate\n",
        "scaled = scaler.fit_transform(DATA[['Demand']])\n",
        "\n",
        "# create a proper input (X) tensor & output (y) vector\n",
        "\n",
        "X = []\n",
        "y = []\n",
        "\n",
        "horizon = 24     # forecast horizon , caution: only 24th value is forecasted\n",
        "nlags = 24      # number of lags used for forecasting\n",
        "\n",
        "for i in range(nlags, len(scaled)-horizon+1):\n",
        "    X.append(scaled[i-nlags:i, :])\n",
        "    y.append(scaled[i+horizon-1, 0])\n",
        "\n",
        "X, y = np.array(X), np.array(y)\n",
        "\n",
        "print(X.shape, y.shape)\n",
        "xdim = X.shape[2]\n",
        "X_train, y_train = X[:(ntrain-nlags)], y[:(ntrain-nlags)]\n",
        "X_test, y_test = X[(ntrain-nlags):], y[(ntrain-nlags):]"
      ]
    },
    {
      "cell_type": "code",
      "execution_count": null,
      "metadata": {
        "colab": {
          "base_uri": "https://localhost:8080/",
          "height": 1000
        },
        "id": "0129pd1a53HY",
        "outputId": "2a085af0-a6cc-4d4f-da07-f4a40e867e17"
      },
      "outputs": [
        {
          "output_type": "stream",
          "name": "stdout",
          "text": [
            "Epoch 1/50\n",
            "740/740 [==============================] - 55s 69ms/step - loss: 0.0247 - val_loss: 0.0179\n",
            "Epoch 2/50\n",
            "740/740 [==============================] - 50s 67ms/step - loss: 0.0160 - val_loss: 0.0148\n",
            "Epoch 3/50\n",
            "740/740 [==============================] - 49s 67ms/step - loss: 0.0145 - val_loss: 0.0148\n",
            "Epoch 4/50\n",
            "740/740 [==============================] - 49s 67ms/step - loss: 0.0134 - val_loss: 0.0169\n",
            "Epoch 5/50\n",
            "740/740 [==============================] - 49s 67ms/step - loss: 0.0124 - val_loss: 0.0123\n",
            "Epoch 6/50\n",
            "740/740 [==============================] - 49s 67ms/step - loss: 0.0106 - val_loss: 0.0106\n",
            "Epoch 7/50\n",
            "740/740 [==============================] - 49s 67ms/step - loss: 0.0093 - val_loss: 0.0102\n",
            "Epoch 8/50\n",
            "740/740 [==============================] - 49s 66ms/step - loss: 0.0088 - val_loss: 0.0095\n",
            "Epoch 9/50\n",
            "740/740 [==============================] - 50s 67ms/step - loss: 0.0083 - val_loss: 0.0083\n",
            "Epoch 10/50\n",
            "740/740 [==============================] - 50s 67ms/step - loss: 0.0079 - val_loss: 0.0082\n",
            "Epoch 11/50\n",
            "740/740 [==============================] - 50s 68ms/step - loss: 0.0076 - val_loss: 0.0129\n",
            "Epoch 12/50\n",
            "740/740 [==============================] - 50s 67ms/step - loss: 0.0075 - val_loss: 0.0083\n",
            "Epoch 13/50\n",
            "740/740 [==============================] - 50s 67ms/step - loss: 0.0071 - val_loss: 0.0095\n",
            "Epoch 14/50\n",
            "740/740 [==============================] - 50s 67ms/step - loss: 0.0070 - val_loss: 0.0079\n",
            "Epoch 15/50\n",
            "740/740 [==============================] - 50s 68ms/step - loss: 0.0069 - val_loss: 0.0068\n",
            "Epoch 16/50\n",
            "740/740 [==============================] - 50s 67ms/step - loss: 0.0067 - val_loss: 0.0077\n",
            "Epoch 17/50\n",
            "740/740 [==============================] - 50s 67ms/step - loss: 0.0066 - val_loss: 0.0080\n",
            "Epoch 18/50\n",
            "740/740 [==============================] - 50s 68ms/step - loss: 0.0066 - val_loss: 0.0084\n",
            "Epoch 19/50\n",
            "740/740 [==============================] - 50s 68ms/step - loss: 0.0065 - val_loss: 0.0071\n",
            "Epoch 20/50\n",
            "740/740 [==============================] - 50s 68ms/step - loss: 0.0063 - val_loss: 0.0077\n",
            "Epoch 21/50\n",
            "740/740 [==============================] - 50s 68ms/step - loss: 0.0063 - val_loss: 0.0069\n",
            "Epoch 22/50\n",
            "740/740 [==============================] - 50s 67ms/step - loss: 0.0062 - val_loss: 0.0073\n",
            "Epoch 23/50\n",
            "740/740 [==============================] - 50s 67ms/step - loss: 0.0062 - val_loss: 0.0070\n",
            "Epoch 24/50\n",
            "740/740 [==============================] - 50s 67ms/step - loss: 0.0060 - val_loss: 0.0071\n",
            "Epoch 25/50\n",
            "740/740 [==============================] - 50s 67ms/step - loss: 0.0061 - val_loss: 0.0087\n",
            "Epoch 26/50\n",
            "740/740 [==============================] - 49s 67ms/step - loss: 0.0060 - val_loss: 0.0071\n",
            "Epoch 27/50\n",
            "740/740 [==============================] - 50s 67ms/step - loss: 0.0057 - val_loss: 0.0065\n",
            "Epoch 28/50\n",
            "740/740 [==============================] - 50s 68ms/step - loss: 0.0058 - val_loss: 0.0074\n",
            "Epoch 29/50\n",
            "740/740 [==============================] - 50s 67ms/step - loss: 0.0058 - val_loss: 0.0063\n",
            "Epoch 30/50\n",
            "740/740 [==============================] - 50s 67ms/step - loss: 0.0058 - val_loss: 0.0066\n",
            "Epoch 31/50\n",
            "740/740 [==============================] - 49s 67ms/step - loss: 0.0057 - val_loss: 0.0079\n",
            "Epoch 32/50\n",
            "740/740 [==============================] - 51s 69ms/step - loss: 0.0056 - val_loss: 0.0063\n",
            "Epoch 33/50\n",
            "740/740 [==============================] - 50s 68ms/step - loss: 0.0057 - val_loss: 0.0067\n",
            "Epoch 34/50\n",
            "740/740 [==============================] - 50s 68ms/step - loss: 0.0055 - val_loss: 0.0068\n",
            "Epoch 35/50\n",
            "740/740 [==============================] - 50s 68ms/step - loss: 0.0055 - val_loss: 0.0072\n",
            "Epoch 36/50\n",
            "740/740 [==============================] - 50s 68ms/step - loss: 0.0056 - val_loss: 0.0070\n",
            "Epoch 37/50\n",
            "740/740 [==============================] - 50s 67ms/step - loss: 0.0054 - val_loss: 0.0069\n",
            "Epoch 38/50\n",
            "740/740 [==============================] - 50s 67ms/step - loss: 0.0054 - val_loss: 0.0065\n",
            "Epoch 39/50\n",
            "740/740 [==============================] - 50s 67ms/step - loss: 0.0052 - val_loss: 0.0061\n",
            "Epoch 40/50\n",
            "740/740 [==============================] - 50s 67ms/step - loss: 0.0053 - val_loss: 0.0067\n",
            "Epoch 41/50\n",
            "740/740 [==============================] - 50s 67ms/step - loss: 0.0052 - val_loss: 0.0062\n",
            "Epoch 42/50\n",
            "740/740 [==============================] - 49s 67ms/step - loss: 0.0053 - val_loss: 0.0065\n",
            "Epoch 43/50\n",
            "740/740 [==============================] - 49s 66ms/step - loss: 0.0052 - val_loss: 0.0064\n",
            "Epoch 44/50\n",
            "740/740 [==============================] - 50s 67ms/step - loss: 0.0054 - val_loss: 0.0065\n",
            "Epoch 45/50\n",
            "740/740 [==============================] - 50s 67ms/step - loss: 0.0052 - val_loss: 0.0065\n",
            "Epoch 46/50\n",
            "740/740 [==============================] - 50s 67ms/step - loss: 0.0051 - val_loss: 0.0072\n",
            "Epoch 47/50\n",
            "740/740 [==============================] - 50s 67ms/step - loss: 0.0051 - val_loss: 0.0062\n",
            "Epoch 48/50\n",
            "740/740 [==============================] - 50s 67ms/step - loss: 0.0051 - val_loss: 0.0077\n",
            "Epoch 49/50\n",
            "740/740 [==============================] - 51s 68ms/step - loss: 0.0051 - val_loss: 0.0067\n",
            "Epoch 50/50\n",
            "740/740 [==============================] - 50s 68ms/step - loss: 0.0052 - val_loss: 0.0061\n"
          ]
        },
        {
          "output_type": "display_data",
          "data": {
            "text/plain": [
              "<Figure size 432x288 with 1 Axes>"
            ],
            "image/png": "[encoded data removed]"
          },
          "metadata": {
            "needs_background": "light"
          }
        }
      ],
      "source": [
        "# LSTM neural network\n",
        "model = Sequential()\n",
        "model.add(LSTM(128, activation='relu', input_shape=(nlags, xdim), return_sequences=True))\n",
        "model.add(Dropout(0.3))\n",
        "model.add(LSTM(128, activation='relu', return_sequences=False))\n",
        "model.add(Dropout(0.2))\n",
        "model.add(Dense(1, 'linear'))\n",
        "\n",
        "model.compile(optimizer='adam', loss='mse')\n",
        "\n",
        "fit = model.fit(X_train, y_train, epochs=50, batch_size=32, validation_split=0.1)\n",
        "\n",
        "loss = np.asarray(fit.history['loss'])\n",
        "plt.plot(fit.history['loss'], label='Training loss')\n",
        "plt.plot(fit.history['val_loss'], label='Validation loss')\n",
        "plt.legend()\n",
        "\n",
        "predicted = model.predict(X_test)\n",
        "to_inverse = np.repeat(predicted, xdim, axis=-1)\n",
        "uni2_24 = scaler.inverse_transform(to_inverse)[:,0]\n",
        "\n",
        "lstm_forecast24[:,0] = uni2_24\n",
        "np.savetxt('lstm_forecast24.csv', lstm_forecast24, delimiter=\",\")"
      ]
    },
    {
      "cell_type": "code",
      "execution_count": null,
      "metadata": {
        "id": "Yc3Dz2IhNwnb"
      },
      "outputs": [],
      "source": [
        "lstm_forecast24[:,0] = uni2_24\n",
        "np.savetxt('lstm_forecast24.csv', lstm_forecast24, delimiter=\",\")"
      ]
    },
    {
      "cell_type": "markdown",
      "metadata": {
        "id": "XGsfQIDew-Ur"
      },
      "source": [
        "## Multivariate"
      ]
    },
    {
      "cell_type": "code",
      "execution_count": null,
      "metadata": {
        "id": "hROHEhi9J6xj"
      },
      "outputs": [],
      "source": [
        "seconds = DATA.index.map(pd.Timestamp.timestamp)"
      ]
    },
    {
      "cell_type": "code",
      "execution_count": null,
      "metadata": {
        "id": "CtrM1Q9o6wXs"
      },
      "outputs": [],
      "source": [
        "day = 24*60*60\n",
        "week = 7*day\n",
        "year = (365.2425)*day\n",
        "\n",
        "DATA['Day sin'] = np.sin(seconds * (2 * np.pi / day))\n",
        "DATA['Day cos'] = np.cos(seconds * (2 * np.pi / day))\n",
        "DATA['Week sin'] = np.sin(seconds * (2 * np.pi / week))\n",
        "DATA['Week cos'] = np.cos(seconds * (2 * np.pi / week))\n",
        "DATA['Year sin'] = np.sin(seconds * (2 * np.pi / year))\n",
        "DATA['Year cos'] = np.cos(seconds * (2 * np.pi / year))"
      ]
    },
    {
      "cell_type": "markdown",
      "metadata": {
        "id": "3m9EuJdb5sZW"
      },
      "source": [
        "### h=1"
      ]
    },
    {
      "cell_type": "markdown",
      "metadata": {
        "id": "z-LBB-0fEzX3"
      },
      "source": [
        "Demand ~ Harmonics + Holidays (LSTM_S)"
      ]
    },
    {
      "cell_type": "code",
      "execution_count": null,
      "metadata": {
        "colab": {
          "base_uri": "https://localhost:8080/"
        },
        "id": "uZ02N-Y6LVte",
        "outputId": "9a5dc8a4-5bdb-46f2-882b-0d7cd3f74296"
      },
      "outputs": [
        {
          "name": "stdout",
          "output_type": "stream",
          "text": [
            "(35040, 24, 8) (35040, 1)\n"
          ]
        }
      ],
      "source": [
        "scaler = MinMaxScaler()\n",
        "scaled = scaler.fit_transform(DATA[['Demand','NonWeekend_holiday',\n",
        "                                    'Day sin','Day cos','Week sin','Week cos',\n",
        "                                    'Year sin','Year cos']])\n",
        "\n",
        "# shift regressors' series so the value at moment t is used for prediction at t\n",
        "reg = scaled[1:,1:]\n",
        "scaled[:(len(scaled)-1),1:] = reg\n",
        "\n",
        "\n",
        "# create a proper input (X) tensor & output (y) vector\n",
        "\n",
        "X = []\n",
        "y = []\n",
        "\n",
        "horizon = 1     # forecast horizon\n",
        "nlags = 24      # number of lags used for forecasting\n",
        "\n",
        "for i in range(nlags, len(scaled)-horizon+1):\n",
        "    X.append(scaled[i-nlags:i, :])\n",
        "    y.append(scaled[i+horizon-1:i+horizon, 0])\n",
        "\n",
        "X, y = np.array(X), np.array(y)\n",
        "\n",
        "print(X.shape, y.shape)\n",
        "xdim = X.shape[2]\n",
        "X_train, y_train = X[:(ntrain-nlags)], y[:(ntrain-nlags)]\n",
        "X_test, y_test = X[(ntrain-nlags):], y[(ntrain-nlags):]"
      ]
    },
    {
      "cell_type": "code",
      "execution_count": null,
      "metadata": {
        "colab": {
          "base_uri": "https://localhost:8080/",
          "height": 1000
        },
        "id": "5lLsIqn2PpkM",
        "outputId": "a81b9ebe-2775-4f6b-9ee1-410539f6b5ed"
      },
      "outputs": [
        {
          "name": "stdout",
          "output_type": "stream",
          "text": [
            "Epoch 1/25\n",
            "740/740 [==============================] - 375s 503ms/step - loss: 0.0106 - val_loss: 0.0035\n",
            "Epoch 2/25\n",
            "740/740 [==============================] - 345s 467ms/step - loss: 0.0038 - val_loss: 0.0021\n",
            "Epoch 3/25\n",
            "740/740 [==============================] - 322s 435ms/step - loss: 0.0027 - val_loss: 0.0018\n",
            "Epoch 4/25\n",
            "740/740 [==============================] - 294s 398ms/step - loss: 0.0021 - val_loss: 0.0028\n",
            "Epoch 5/25\n",
            "740/740 [==============================] - 370s 501ms/step - loss: 0.0018 - val_loss: 0.0013\n",
            "Epoch 6/25\n",
            "740/740 [==============================] - 363s 492ms/step - loss: 0.0015 - val_loss: 0.0013\n",
            "Epoch 7/25\n",
            "740/740 [==============================] - 443s 600ms/step - loss: 0.0013 - val_loss: 0.0018\n",
            "Epoch 8/25\n",
            "740/740 [==============================] - 369s 500ms/step - loss: 0.0012 - val_loss: 0.0012\n",
            "Epoch 9/25\n",
            "740/740 [==============================] - 381s 516ms/step - loss: 0.0011 - val_loss: 0.0013\n",
            "Epoch 10/25\n",
            "740/740 [==============================] - 429s 581ms/step - loss: 0.0011 - val_loss: 0.0010\n",
            "Epoch 11/25\n",
            "740/740 [==============================] - 411s 557ms/step - loss: 0.0010 - val_loss: 0.0010\n",
            "Epoch 12/25\n",
            "740/740 [==============================] - 383s 519ms/step - loss: 9.9077e-04 - val_loss: 0.0012\n",
            "Epoch 13/25\n",
            "740/740 [==============================] - 411s 556ms/step - loss: 9.8016e-04 - val_loss: 8.8273e-04\n",
            "Epoch 14/25\n",
            "740/740 [==============================] - 423s 573ms/step - loss: 9.3837e-04 - val_loss: 7.7298e-04\n",
            "Epoch 15/25\n",
            "740/740 [==============================] - 336s 455ms/step - loss: 9.2142e-04 - val_loss: 8.0028e-04\n",
            "Epoch 16/25\n",
            "740/740 [==============================] - 211s 286ms/step - loss: 8.5421e-04 - val_loss: 6.7112e-04\n",
            "Epoch 17/25\n",
            "740/740 [==============================] - 35s 47ms/step - loss: 8.2332e-04 - val_loss: 6.1555e-04\n",
            "Epoch 18/25\n",
            "740/740 [==============================] - 35s 47ms/step - loss: 8.4480e-04 - val_loss: 6.0939e-04\n",
            "Epoch 19/25\n",
            "740/740 [==============================] - 34s 46ms/step - loss: 8.3744e-04 - val_loss: 6.7304e-04\n",
            "Epoch 20/25\n",
            "740/740 [==============================] - 34s 46ms/step - loss: 8.0252e-04 - val_loss: 9.1251e-04\n",
            "Epoch 21/25\n",
            "740/740 [==============================] - 34s 47ms/step - loss: 7.8101e-04 - val_loss: 5.7277e-04\n",
            "Epoch 22/25\n",
            "740/740 [==============================] - 35s 47ms/step - loss: 7.8650e-04 - val_loss: 5.2452e-04\n",
            "Epoch 23/25\n",
            "740/740 [==============================] - 35s 47ms/step - loss: 7.6837e-04 - val_loss: 0.0010\n",
            "Epoch 24/25\n",
            "740/740 [==============================] - 35s 47ms/step - loss: 7.2989e-04 - val_loss: 4.2324e-04\n",
            "Epoch 25/25\n",
            "740/740 [==============================] - 35s 47ms/step - loss: 7.2314e-04 - val_loss: 4.1186e-04\n"
          ]
        },
        {
          "data": {
            "image/png": "[encoded data removed]",
            "text/plain": [
              "<Figure size 432x288 with 1 Axes>"
            ]
          },
          "metadata": {},
          "output_type": "display_data"
        }
      ],
      "source": [
        "# LSTM neural network\n",
        "model = Sequential()\n",
        "model.add(LSTM(128, activation='relu', input_shape=(nlags, xdim), return_sequences=True))\n",
        "model.add(Dropout(0.2))\n",
        "model.add(LSTM(64, activation='relu', return_sequences=False))\n",
        "model.add(Dropout(0.2))\n",
        "model.add(Dense(1, 'linear'))\n",
        "\n",
        "model.compile(optimizer='adam', loss='mse')\n",
        "\n",
        "fit = model.fit(X_train, y_train, epochs=25, batch_size=32, validation_split=0.1)\n",
        "\n",
        "loss = np.asarray(fit.history['loss'])\n",
        "plt.plot(fit.history['loss'], label='Training loss')\n",
        "plt.plot(fit.history['val_loss'], label='Validation loss')\n",
        "plt.legend()\n",
        "\n",
        "predicted = model.predict(X_test)\n",
        "to_inverse = np.repeat(predicted, xdim, axis=-1)\n",
        "lstms_1 = scaler.inverse_transform(to_inverse)[:,0]\n",
        "\n",
        "lstm_forecast[:,1] = lstms_1\n",
        "np.savetxt('lstm_forecast.csv', lstm_forecast, delimiter=\",\")"
      ]
    },
    {
      "cell_type": "markdown",
      "metadata": {
        "id": "UB3JjeSBE9gY"
      },
      "source": [
        "Demand ~ Temperature + Harmonics + Holidays (LSTM_SX)"
      ]
    },
    {
      "cell_type": "code",
      "execution_count": null,
      "metadata": {
        "colab": {
          "base_uri": "https://localhost:8080/"
        },
        "id": "JMD6UnVgIn57",
        "outputId": "044fb7b2-af76-4e44-c490-750db674ca2d"
      },
      "outputs": [
        {
          "name": "stdout",
          "output_type": "stream",
          "text": [
            "(35040, 24, 9) (35040, 1)\n"
          ]
        }
      ],
      "source": [
        "scaler = MinMaxScaler()\n",
        "scaled = scaler.fit_transform(DATA[['Demand','NonWeekend_holiday','Temperature',\n",
        "                                    'Day sin','Day cos','Week sin','Week cos',\n",
        "                                    'Year sin','Year cos']])\n",
        "\n",
        "# shift regressors' series so the value at moment t is used for prediction at t\n",
        "reg = scaled[1:,1:]\n",
        "scaled[:(len(scaled)-1),1:] = reg\n",
        "\n",
        "\n",
        "# create a proper input (X) tensor & output (y) vector\n",
        "\n",
        "X = []\n",
        "y = []\n",
        "\n",
        "horizon = 1     # forecast horizon\n",
        "nlags = 24      # number of lags used for forecasting\n",
        "\n",
        "for i in range(nlags, len(scaled)-horizon+1):\n",
        "    X.append(scaled[i-nlags:i, :])\n",
        "    y.append(scaled[i+horizon-1:i+horizon, 0])\n",
        "\n",
        "X, y = np.array(X), np.array(y)\n",
        "\n",
        "print(X.shape, y.shape)\n",
        "xdim = X.shape[2]\n",
        "X_train, y_train = X[:(ntrain-nlags)], y[:(ntrain-nlags)]\n",
        "X_test, y_test = X[(ntrain-nlags):], y[(ntrain-nlags):]"
      ]
    },
    {
      "cell_type": "code",
      "execution_count": null,
      "metadata": {
        "colab": {
          "background_save": true,
          "base_uri": "https://localhost:8080/"
        },
        "id": "dfqig_V3QJV6",
        "outputId": "287c9b16-21e6-420b-e7a2-f0b8a04d1cfe"
      },
      "outputs": [
        {
          "name": "stdout",
          "output_type": "stream",
          "text": [
            "Epoch 1/25\n",
            "740/740 [==============================] - 55s 71ms/step - loss: 0.0118 - val_loss: 0.0048\n",
            "Epoch 2/25\n",
            "740/740 [==============================] - 53s 71ms/step - loss: 0.0042 - val_loss: 0.0026\n",
            "Epoch 3/25\n",
            "740/740 [==============================] - 50s 67ms/step - loss: 0.0028 - val_loss: 0.0018\n",
            "Epoch 4/25\n",
            "740/740 [==============================] - 50s 67ms/step - loss: 0.0021 - val_loss: 0.0018\n",
            "Epoch 5/25\n",
            "740/740 [==============================] - 46s 63ms/step - loss: 0.0017 - val_loss: 0.0014\n",
            "Epoch 6/25\n",
            "740/740 [==============================] - 51s 69ms/step - loss: 0.0014 - val_loss: 0.0012\n",
            "Epoch 7/25\n",
            "740/740 [==============================] - 51s 70ms/step - loss: 0.0013 - val_loss: 0.0012\n",
            "Epoch 8/25\n",
            "740/740 [==============================] - 58s 79ms/step - loss: 0.0012 - val_loss: 0.0013\n",
            "Epoch 9/25\n",
            "740/740 [==============================] - 51s 69ms/step - loss: 0.0011 - val_loss: 8.8951e-04\n",
            "Epoch 10/25\n",
            "740/740 [==============================] - 51s 69ms/step - loss: 0.0011 - val_loss: 0.0012\n",
            "Epoch 11/25\n",
            "740/740 [==============================] - 50s 67ms/step - loss: 0.0010 - val_loss: 8.6205e-04\n",
            "Epoch 12/25\n",
            "740/740 [==============================] - 48s 64ms/step - loss: 9.6350e-04 - val_loss: 9.4209e-04\n",
            "Epoch 13/25\n",
            "740/740 [==============================] - 53s 71ms/step - loss: 9.3737e-04 - val_loss: 0.0011\n",
            "Epoch 14/25\n",
            "740/740 [==============================] - 47s 64ms/step - loss: 8.9304e-04 - val_loss: 7.7609e-04\n",
            "Epoch 15/25\n",
            "740/740 [==============================] - 50s 68ms/step - loss: 8.5057e-04 - val_loss: 8.3024e-04\n",
            "Epoch 16/25\n",
            "740/740 [==============================] - 50s 67ms/step - loss: 8.5936e-04 - val_loss: 5.8150e-04\n",
            "Epoch 17/25\n",
            "740/740 [==============================] - 56s 76ms/step - loss: 8.0415e-04 - val_loss: 6.8334e-04\n",
            "Epoch 18/25\n",
            "740/740 [==============================] - 52s 70ms/step - loss: 8.0978e-04 - val_loss: 6.2835e-04\n",
            "Epoch 19/25\n",
            "740/740 [==============================] - 58s 79ms/step - loss: 7.9246e-04 - val_loss: 5.5931e-04\n",
            "Epoch 20/25\n",
            "740/740 [==============================] - 59s 79ms/step - loss: 7.6220e-04 - val_loss: 4.7164e-04\n",
            "Epoch 21/25\n",
            "740/740 [==============================] - 54s 73ms/step - loss: 7.5139e-04 - val_loss: 5.0374e-04\n",
            "Epoch 22/25\n",
            "740/740 [==============================] - 55s 75ms/step - loss: 7.7657e-04 - val_loss: 4.3938e-04\n",
            "Epoch 23/25\n",
            "740/740 [==============================] - 54s 73ms/step - loss: 7.3635e-04 - val_loss: 4.6730e-04\n",
            "Epoch 24/25\n",
            "740/740 [==============================] - 54s 74ms/step - loss: 7.2577e-04 - val_loss: 5.0208e-04\n",
            "Epoch 25/25\n",
            "740/740 [==============================] - 45s 61ms/step - loss: 7.1645e-04 - val_loss: 4.0992e-04\n"
          ]
        },
        {
          "data": {
            "image/png": "[encoded data removed]",
            "text/plain": [
              "<Figure size 432x288 with 1 Axes>"
            ]
          },
          "metadata": {},
          "output_type": "display_data"
        }
      ],
      "source": [
        "# LSTM neural network\n",
        "model = Sequential()\n",
        "model.add(LSTM(128, activation='relu', input_shape=(nlags, xdim), return_sequences=True))\n",
        "model.add(Dropout(0.2))\n",
        "model.add(LSTM(64, activation='relu', return_sequences=False))\n",
        "model.add(Dropout(0.2))\n",
        "model.add(Dense(1, 'linear'))\n",
        "\n",
        "model.compile(optimizer='adam', loss='mse')\n",
        "\n",
        "fit = model.fit(X_train, y_train, epochs=25, batch_size=32, validation_split=0.1)\n",
        "\n",
        "loss = np.asarray(fit.history['loss'])\n",
        "plt.plot(fit.history['loss'], label='Training loss')\n",
        "plt.plot(fit.history['val_loss'], label='Validation loss')\n",
        "plt.legend()\n",
        "\n",
        "predicted = model.predict(X_test)\n",
        "to_inverse = np.repeat(predicted, xdim, axis=-1)\n",
        "lstmsx_1 = scaler.inverse_transform(to_inverse)[:,0]\n",
        "\n",
        "lstm_forecast[:,2] = lstmsx_1\n",
        "np.savetxt('lstm_forecast.csv', lstm_forecast, delimiter=\",\")"
      ]
    },
    {
      "cell_type": "markdown",
      "metadata": {
        "id": "NPflxCvQ9-7u"
      },
      "source": [
        " ( old )  Demand ~ Temperature"
      ]
    },
    {
      "cell_type": "code",
      "execution_count": null,
      "metadata": {
        "id": "84IjWkYNvHfP"
      },
      "outputs": [],
      "source": [
        "scaler = MinMaxScaler()\n",
        "scaled = scaler.fit_transform(DATA[['Demand','Temperature']])\n",
        "\n",
        "# shift temperature series so the value at moment t is used for prediction at t\n",
        "# therefore 23 past values of temperature and the current temperature is used\n",
        "temper = scaled[1:,1]\n",
        "scaled[:(len(scaled)-1),1] = temper\n",
        "\n",
        "# create a proper input (X) tensor & output (y) vector\n",
        "\n",
        "X = []\n",
        "y = []\n",
        "\n",
        "horizon = 1     # forecast horizon\n",
        "nlags = 24      # number of lags used for forecasting\n",
        "\n",
        "for i in range(nlags, len(scaled)-horizon+1):\n",
        "    X.append(scaled[i-nlags:i, :])\n",
        "    y.append(scaled[i+horizon-1:i+horizon, 0])\n",
        "\n",
        "X, y = np.array(X), np.array(y)\n",
        "\n",
        "print(X.shape, y.shape)\n",
        "xdim = X.shape[2]\n",
        "\n",
        "X_train, y_train = X[:(ntrain-nlags)], y[:(ntrain-nlags)]\n",
        "X_test, y_test = X[(ntrain-nlags):], y[(ntrain-nlags):]\n",
        "\n",
        "# LSTM neural network\n",
        "model = Sequential()\n",
        "model.add(LSTM(64, activation='relu', input_shape=(nlags, xdim), return_sequences=True))\n",
        "model.add(Dropout(0.2))\n",
        "model.add(LSTM(32, activation='relu', return_sequences=False))\n",
        "model.add(Dropout(0.2))\n",
        "model.add(Dense(1, 'linear'))\n",
        "\n",
        "model.compile(optimizer='adam', loss='mse')\n",
        "model.summary()\n",
        "\n",
        "fit = model.fit(X_train, y_train, epochs=10, batch_size=32, validation_split=0.1)\n",
        "\n",
        "predicted = model.predict(X_test)"
      ]
    },
    {
      "cell_type": "markdown",
      "metadata": {
        "id": "b3xpsTPtxID4"
      },
      "source": [
        "### h=24"
      ]
    },
    {
      "cell_type": "markdown",
      "metadata": {
        "id": "SkY3O6aaQ6hG"
      },
      "source": [
        "LSTM_S"
      ]
    },
    {
      "cell_type": "code",
      "execution_count": null,
      "metadata": {
        "id": "yb-bxYpDxDoX",
        "colab": {
          "base_uri": "https://localhost:8080/"
        },
        "outputId": "e205a322-214a-4476-a500-cdd847986060"
      },
      "outputs": [
        {
          "output_type": "stream",
          "name": "stdout",
          "text": [
            "(35017, 24, 8) (35017, 1)\n"
          ]
        }
      ],
      "source": [
        "scaler = MinMaxScaler()\n",
        "scaled = scaler.fit_transform(DATA[['Demand','NonWeekend_holiday',\n",
        "                                    'Day sin','Day cos','Week sin','Week cos',\n",
        "                                    'Year sin','Year cos']])\n",
        "\n",
        "# shift regressors' series so the value at moment t is used for prediction at t\n",
        "reg = scaled[24:,1:]\n",
        "scaled[:(len(scaled)-24),1:] = reg\n",
        "\n",
        "\n",
        "# create a proper input (X) tensor & output (y) vector\n",
        "\n",
        "X = []\n",
        "y = []\n",
        "\n",
        "horizon = 24     # forecast horizon\n",
        "nlags = 24      # number of lags used for forecasting\n",
        "\n",
        "for i in range(nlags, len(scaled)-horizon+1):\n",
        "    X.append(scaled[i-nlags:i, :])\n",
        "    y.append(scaled[i+horizon-1:i+horizon, 0])\n",
        "\n",
        "X, y = np.array(X), np.array(y)\n",
        "\n",
        "print(X.shape, y.shape)\n",
        "xdim = X.shape[2]\n",
        "X_train, y_train = X[:(ntrain-nlags)], y[:(ntrain-nlags)]\n",
        "X_test, y_test = X[(ntrain-nlags):], y[(ntrain-nlags):]"
      ]
    },
    {
      "cell_type": "code",
      "execution_count": null,
      "metadata": {
        "id": "BAZY7o1YRJu6",
        "colab": {
          "base_uri": "https://localhost:8080/",
          "height": 1000
        },
        "outputId": "bbee1c9e-8436-4422-85be-3fabe7d2dc1a"
      },
      "outputs": [
        {
          "output_type": "stream",
          "name": "stdout",
          "text": [
            "Epoch 1/25\n",
            "740/740 [==============================] - 37s 47ms/step - loss: 0.0134 - val_loss: 0.0068\n",
            "Epoch 2/25\n",
            "740/740 [==============================] - 32s 44ms/step - loss: 0.0052 - val_loss: 0.0050\n",
            "Epoch 3/25\n",
            "740/740 [==============================] - 32s 44ms/step - loss: 0.0039 - val_loss: 0.0048\n",
            "Epoch 4/25\n",
            "740/740 [==============================] - 33s 45ms/step - loss: 0.0030 - val_loss: 0.0041\n",
            "Epoch 5/25\n",
            "740/740 [==============================] - 33s 44ms/step - loss: 0.0026 - val_loss: 0.0037\n",
            "Epoch 6/25\n",
            "740/740 [==============================] - 33s 45ms/step - loss: 0.0022 - val_loss: 0.0035\n",
            "Epoch 7/25\n",
            "740/740 [==============================] - 33s 45ms/step - loss: 0.0020 - val_loss: 0.0038\n",
            "Epoch 8/25\n",
            "740/740 [==============================] - 33s 44ms/step - loss: 0.0019 - val_loss: 0.0036\n",
            "Epoch 9/25\n",
            "740/740 [==============================] - 33s 45ms/step - loss: 0.0018 - val_loss: 0.0036\n",
            "Epoch 10/25\n",
            "740/740 [==============================] - 33s 44ms/step - loss: 0.0017 - val_loss: 0.0038\n",
            "Epoch 11/25\n",
            "740/740 [==============================] - 33s 44ms/step - loss: 0.0016 - val_loss: 0.0038\n",
            "Epoch 12/25\n",
            "740/740 [==============================] - 33s 44ms/step - loss: 0.0016 - val_loss: 0.0034\n",
            "Epoch 13/25\n",
            "740/740 [==============================] - 33s 44ms/step - loss: 0.0015 - val_loss: 0.0036\n",
            "Epoch 14/25\n",
            "740/740 [==============================] - 33s 44ms/step - loss: 0.0015 - val_loss: 0.0036\n",
            "Epoch 15/25\n",
            "740/740 [==============================] - 33s 44ms/step - loss: 0.0014 - val_loss: 0.0033\n",
            "Epoch 16/25\n",
            "740/740 [==============================] - 33s 44ms/step - loss: 0.0014 - val_loss: 0.0034\n",
            "Epoch 17/25\n",
            "740/740 [==============================] - 33s 44ms/step - loss: 0.0014 - val_loss: 0.0031\n",
            "Epoch 18/25\n",
            "740/740 [==============================] - 32s 44ms/step - loss: 0.0014 - val_loss: 0.0030\n",
            "Epoch 19/25\n",
            "740/740 [==============================] - 33s 44ms/step - loss: 0.0013 - val_loss: 0.0033\n",
            "Epoch 20/25\n",
            "740/740 [==============================] - 33s 44ms/step - loss: 0.0013 - val_loss: 0.0037\n",
            "Epoch 21/25\n",
            "740/740 [==============================] - 32s 44ms/step - loss: 0.0013 - val_loss: 0.0029\n",
            "Epoch 22/25\n",
            "740/740 [==============================] - 32s 44ms/step - loss: 0.0013 - val_loss: 0.0032\n",
            "Epoch 23/25\n",
            "740/740 [==============================] - 33s 44ms/step - loss: 0.0013 - val_loss: 0.0033\n",
            "Epoch 24/25\n",
            "740/740 [==============================] - 32s 44ms/step - loss: 0.0012 - val_loss: 0.0031\n",
            "Epoch 25/25\n",
            "740/740 [==============================] - 32s 44ms/step - loss: 0.0012 - val_loss: 0.0030\n"
          ]
        },
        {
          "output_type": "display_data",
          "data": {
            "text/plain": [
              "<Figure size 432x288 with 1 Axes>"
            ],
            "image/png": "[encoded data removed]"
          },
          "metadata": {
            "needs_background": "light"
          }
        }
      ],
      "source": [
        "# LSTM neural network\n",
        "model = Sequential()\n",
        "model.add(LSTM(128, activation='relu', input_shape=(nlags, xdim), return_sequences=True))\n",
        "model.add(Dropout(0.2))\n",
        "model.add(LSTM(64, activation='relu', return_sequences=False))\n",
        "model.add(Dropout(0.2))\n",
        "model.add(Dense(1, 'linear'))\n",
        "\n",
        "model.compile(optimizer='adam', loss='mse')\n",
        "\n",
        "fit = model.fit(X_train, y_train, epochs=50, batch_size=32, validation_split=0.1)\n",
        "\n",
        "loss = np.asarray(fit.history['loss'])\n",
        "plt.plot(fit.history['loss'], label='Training loss')\n",
        "plt.plot(fit.history['val_loss'], label='Validation loss')\n",
        "plt.legend()\n",
        "\n",
        "predicted = model.predict(X_test)\n",
        "to_inverse = np.repeat(predicted, xdim, axis=-1)\n",
        "lstms_24 = scaler.inverse_transform(to_inverse)[:,0]\n",
        "\n",
        "lstm_forecast24[:,1] = lstms_24\n",
        "np.savetxt('lstm_forecast24.csv', lstm_forecast24, delimiter=\",\")"
      ]
    },
    {
      "cell_type": "markdown",
      "metadata": {
        "id": "zy9nSCV0Q-eU"
      },
      "source": [
        "LSTM_SX"
      ]
    },
    {
      "cell_type": "code",
      "execution_count": null,
      "metadata": {
        "id": "VYzJyKzGSnng",
        "colab": {
          "base_uri": "https://localhost:8080/"
        },
        "outputId": "a2cd8deb-9700-4231-ed92-d6bf0fc4e974"
      },
      "outputs": [
        {
          "output_type": "stream",
          "name": "stdout",
          "text": [
            "(35017, 24, 9) (35017, 1)\n"
          ]
        }
      ],
      "source": [
        "scaler = MinMaxScaler()\n",
        "scaled = scaler.fit_transform(DATA[['Demand','Temperature','NonWeekend_holiday',\n",
        "                                    'Day sin','Day cos','Week sin','Week cos',\n",
        "                                    'Year sin','Year cos']])\n",
        "\n",
        "# shift regressors' series so the value at moment t is used for prediction at t\n",
        "reg = scaled[24:,1:]\n",
        "scaled[:(len(scaled)-24),1:] = reg\n",
        "\n",
        "\n",
        "# create a proper input (X) tensor & output (y) vector\n",
        "\n",
        "X = []\n",
        "y = []\n",
        "\n",
        "horizon = 24     # forecast horizon\n",
        "nlags = 24      # number of lags used for forecasting\n",
        "\n",
        "for i in range(nlags, len(scaled)-horizon+1):\n",
        "    X.append(scaled[i-nlags:i, :])\n",
        "    y.append(scaled[i+horizon-1:i+horizon, 0])\n",
        "\n",
        "X, y = np.array(X), np.array(y)\n",
        "\n",
        "print(X.shape, y.shape)\n",
        "xdim = X.shape[2]\n",
        "X_train, y_train = X[:(ntrain-nlags)], y[:(ntrain-nlags)]\n",
        "X_test, y_test = X[(ntrain-nlags):], y[(ntrain-nlags):]"
      ]
    },
    {
      "cell_type": "code",
      "execution_count": null,
      "metadata": {
        "id": "jaVndf01Rez5",
        "colab": {
          "base_uri": "https://localhost:8080/",
          "height": 1000
        },
        "outputId": "b759ad85-c385-4c79-a53d-fef15a4dacc4"
      },
      "outputs": [
        {
          "output_type": "stream",
          "name": "stdout",
          "text": [
            "Epoch 1/100\n",
            "740/740 [==============================] - 36s 45ms/step - loss: 0.0108 - val_loss: 0.0047\n",
            "Epoch 2/100\n",
            "740/740 [==============================] - 33s 45ms/step - loss: 0.0043 - val_loss: 0.0050\n",
            "Epoch 3/100\n",
            "740/740 [==============================] - 34s 46ms/step - loss: 0.0032 - val_loss: 0.0042\n",
            "Epoch 4/100\n",
            "740/740 [==============================] - 33s 45ms/step - loss: 0.0026 - val_loss: 0.0042\n",
            "Epoch 5/100\n",
            "740/740 [==============================] - 33s 44ms/step - loss: 0.0022 - val_loss: 0.0034\n",
            "Epoch 6/100\n",
            "740/740 [==============================] - 35s 47ms/step - loss: 0.0020 - val_loss: 0.0037\n",
            "Epoch 7/100\n",
            "740/740 [==============================] - 33s 44ms/step - loss: 0.0018 - val_loss: 0.0036\n",
            "Epoch 8/100\n",
            "740/740 [==============================] - 33s 44ms/step - loss: 0.0017 - val_loss: 0.0032\n",
            "Epoch 9/100\n",
            "740/740 [==============================] - 33s 45ms/step - loss: 0.0017 - val_loss: 0.0034\n",
            "Epoch 10/100\n",
            "740/740 [==============================] - 33s 44ms/step - loss: 0.0016 - val_loss: 0.0033\n",
            "Epoch 11/100\n",
            "740/740 [==============================] - 33s 45ms/step - loss: 0.0015 - val_loss: 0.0033\n",
            "Epoch 12/100\n",
            "740/740 [==============================] - 33s 45ms/step - loss: 0.0015 - val_loss: 0.0040\n",
            "Epoch 13/100\n",
            "740/740 [==============================] - 33s 44ms/step - loss: 0.0014 - val_loss: 0.0034\n",
            "Epoch 14/100\n",
            "740/740 [==============================] - 33s 45ms/step - loss: 0.0013 - val_loss: 0.0032\n",
            "Epoch 15/100\n",
            "740/740 [==============================] - 33s 44ms/step - loss: 0.0013 - val_loss: 0.0033\n",
            "Epoch 16/100\n",
            "740/740 [==============================] - 33s 45ms/step - loss: 0.0013 - val_loss: 0.0032\n",
            "Epoch 17/100\n",
            "740/740 [==============================] - 33s 45ms/step - loss: 0.0012 - val_loss: 0.0032\n",
            "Epoch 18/100\n",
            "740/740 [==============================] - 33s 45ms/step - loss: 0.0012 - val_loss: 0.0031\n",
            "Epoch 19/100\n",
            "740/740 [==============================] - 34s 45ms/step - loss: 0.0012 - val_loss: 0.0040\n",
            "Epoch 20/100\n",
            "740/740 [==============================] - 33s 45ms/step - loss: 0.0012 - val_loss: 0.0034\n",
            "Epoch 21/100\n",
            "740/740 [==============================] - 33s 45ms/step - loss: 0.0012 - val_loss: 0.0031\n",
            "Epoch 22/100\n",
            "740/740 [==============================] - 33s 45ms/step - loss: 0.0011 - val_loss: 0.0036\n",
            "Epoch 23/100\n",
            "740/740 [==============================] - 33s 45ms/step - loss: 0.0011 - val_loss: 0.0033\n",
            "Epoch 24/100\n",
            "740/740 [==============================] - 33s 45ms/step - loss: 0.0011 - val_loss: 0.0033\n",
            "Epoch 25/100\n",
            "740/740 [==============================] - 33s 45ms/step - loss: 0.0011 - val_loss: 0.0033\n",
            "Epoch 26/100\n",
            "740/740 [==============================] - 33s 45ms/step - loss: 0.0011 - val_loss: 0.0032\n",
            "Epoch 27/100\n",
            "740/740 [==============================] - 33s 45ms/step - loss: 0.0011 - val_loss: 0.0034\n",
            "Epoch 28/100\n",
            "740/740 [==============================] - 34s 46ms/step - loss: 0.0011 - val_loss: 0.0033\n",
            "Epoch 29/100\n",
            "740/740 [==============================] - 33s 45ms/step - loss: 0.0010 - val_loss: 0.0034\n",
            "Epoch 30/100\n",
            "740/740 [==============================] - 33s 45ms/step - loss: 0.0010 - val_loss: 0.0032\n",
            "Epoch 31/100\n",
            "740/740 [==============================] - 33s 45ms/step - loss: 0.0010 - val_loss: 0.0031\n",
            "Epoch 32/100\n",
            "740/740 [==============================] - 33s 45ms/step - loss: 9.7394e-04 - val_loss: 0.0036\n",
            "Epoch 33/100\n",
            "740/740 [==============================] - 33s 45ms/step - loss: 0.0010 - val_loss: 0.0032\n",
            "Epoch 34/100\n",
            "740/740 [==============================] - 33s 45ms/step - loss: 9.9278e-04 - val_loss: 0.0031\n",
            "Epoch 35/100\n",
            "740/740 [==============================] - 33s 44ms/step - loss: 9.8791e-04 - val_loss: 0.0031\n",
            "Epoch 36/100\n",
            "740/740 [==============================] - 33s 45ms/step - loss: 9.6836e-04 - val_loss: 0.0030\n",
            "Epoch 37/100\n",
            "740/740 [==============================] - 33s 45ms/step - loss: 9.4871e-04 - val_loss: 0.0032\n",
            "Epoch 38/100\n",
            "740/740 [==============================] - 33s 45ms/step - loss: 9.4846e-04 - val_loss: 0.0034\n",
            "Epoch 39/100\n",
            "740/740 [==============================] - 33s 44ms/step - loss: 9.3548e-04 - val_loss: 0.0031\n",
            "Epoch 40/100\n",
            "740/740 [==============================] - 33s 45ms/step - loss: 9.1586e-04 - val_loss: 0.0031\n",
            "Epoch 41/100\n",
            "740/740 [==============================] - 33s 45ms/step - loss: 9.3871e-04 - val_loss: 0.0031\n",
            "Epoch 42/100\n",
            "740/740 [==============================] - 33s 44ms/step - loss: 9.2540e-04 - val_loss: 0.0034\n",
            "Epoch 43/100\n",
            "740/740 [==============================] - 33s 45ms/step - loss: 9.0220e-04 - val_loss: 0.0032\n",
            "Epoch 44/100\n",
            "740/740 [==============================] - 33s 45ms/step - loss: 9.2050e-04 - val_loss: 0.0033\n",
            "Epoch 45/100\n",
            "740/740 [==============================] - 33s 45ms/step - loss: 8.7594e-04 - val_loss: 0.0034\n",
            "Epoch 46/100\n",
            "740/740 [==============================] - 33s 44ms/step - loss: 8.6802e-04 - val_loss: 0.0032\n",
            "Epoch 47/100\n",
            "740/740 [==============================] - 33s 45ms/step - loss: 9.1398e-04 - val_loss: 0.0033\n",
            "Epoch 48/100\n",
            "740/740 [==============================] - 33s 45ms/step - loss: 8.7516e-04 - val_loss: 0.0031\n",
            "Epoch 49/100\n",
            "740/740 [==============================] - 33s 45ms/step - loss: 8.5656e-04 - val_loss: 0.0032\n",
            "Epoch 50/100\n",
            "740/740 [==============================] - 33s 44ms/step - loss: 8.6953e-04 - val_loss: 0.0031\n",
            "Epoch 51/100\n",
            "740/740 [==============================] - 33s 44ms/step - loss: 8.6520e-04 - val_loss: 0.0032\n",
            "Epoch 52/100\n",
            "740/740 [==============================] - 33s 44ms/step - loss: 8.9633e-04 - val_loss: 0.0032\n",
            "Epoch 53/100\n",
            "740/740 [==============================] - 33s 44ms/step - loss: 8.5632e-04 - val_loss: 0.0032\n",
            "Epoch 54/100\n",
            "740/740 [==============================] - 33s 45ms/step - loss: 8.1327e-04 - val_loss: 0.0032\n",
            "Epoch 55/100\n",
            "740/740 [==============================] - 33s 45ms/step - loss: 8.1732e-04 - val_loss: 0.0031\n",
            "Epoch 56/100\n",
            "740/740 [==============================] - 33s 45ms/step - loss: 8.2890e-04 - val_loss: 0.0031\n",
            "Epoch 57/100\n",
            "740/740 [==============================] - 34s 45ms/step - loss: 8.3384e-04 - val_loss: 0.0032\n",
            "Epoch 58/100\n",
            "740/740 [==============================] - 34s 45ms/step - loss: 8.2866e-04 - val_loss: 0.0030\n",
            "Epoch 59/100\n",
            "740/740 [==============================] - 33s 45ms/step - loss: 8.1184e-04 - val_loss: 0.0031\n",
            "Epoch 60/100\n",
            "740/740 [==============================] - 33s 45ms/step - loss: 7.8827e-04 - val_loss: 0.0034\n",
            "Epoch 61/100\n",
            "740/740 [==============================] - 33s 45ms/step - loss: 7.9836e-04 - val_loss: 0.0033\n",
            "Epoch 62/100\n",
            "740/740 [==============================] - 33s 45ms/step - loss: 7.7930e-04 - val_loss: 0.0032\n",
            "Epoch 63/100\n",
            "740/740 [==============================] - 33s 45ms/step - loss: 8.3653e-04 - val_loss: 0.0033\n",
            "Epoch 64/100\n",
            "740/740 [==============================] - 33s 45ms/step - loss: 8.1538e-04 - val_loss: 0.0031\n",
            "Epoch 65/100\n",
            "740/740 [==============================] - 33s 45ms/step - loss: 7.8943e-04 - val_loss: 0.0033\n",
            "Epoch 66/100\n",
            "740/740 [==============================] - 33s 45ms/step - loss: 7.7352e-04 - val_loss: 0.0031\n",
            "Epoch 67/100\n",
            "740/740 [==============================] - 33s 45ms/step - loss: 7.7506e-04 - val_loss: 0.0034\n",
            "Epoch 68/100\n",
            "740/740 [==============================] - 33s 45ms/step - loss: 8.2905e-04 - val_loss: 0.0033\n",
            "Epoch 69/100\n",
            "740/740 [==============================] - 33s 45ms/step - loss: 7.9775e-04 - val_loss: 0.0032\n",
            "Epoch 70/100\n",
            "740/740 [==============================] - 33s 45ms/step - loss: 7.5840e-04 - val_loss: 0.0032\n",
            "Epoch 71/100\n",
            "740/740 [==============================] - 33s 45ms/step - loss: 7.3984e-04 - val_loss: 0.0031\n",
            "Epoch 72/100\n",
            "740/740 [==============================] - 33s 45ms/step - loss: 7.4801e-04 - val_loss: 0.0032\n",
            "Epoch 73/100\n",
            "740/740 [==============================] - 33s 45ms/step - loss: 7.3972e-04 - val_loss: 0.0031\n",
            "Epoch 74/100\n",
            "740/740 [==============================] - 33s 45ms/step - loss: 7.7558e-04 - val_loss: 0.0031\n",
            "Epoch 75/100\n",
            "740/740 [==============================] - 33s 45ms/step - loss: 7.1552e-04 - val_loss: 0.0031\n",
            "Epoch 76/100\n",
            "740/740 [==============================] - 34s 45ms/step - loss: 7.4303e-04 - val_loss: 0.0031\n",
            "Epoch 77/100\n",
            "740/740 [==============================] - 33s 45ms/step - loss: 7.2904e-04 - val_loss: 0.0031\n",
            "Epoch 78/100\n",
            "740/740 [==============================] - 33s 45ms/step - loss: 7.3833e-04 - val_loss: 0.0030\n",
            "Epoch 79/100\n",
            "740/740 [==============================] - 33s 45ms/step - loss: 7.1471e-04 - val_loss: 0.0032\n",
            "Epoch 80/100\n",
            "740/740 [==============================] - 33s 45ms/step - loss: 7.8254e-04 - val_loss: 0.0033\n",
            "Epoch 81/100\n",
            "740/740 [==============================] - 33s 45ms/step - loss: 7.6037e-04 - val_loss: 0.0031\n",
            "Epoch 82/100\n",
            "740/740 [==============================] - 33s 45ms/step - loss: 7.0125e-04 - val_loss: 0.0032\n",
            "Epoch 83/100\n",
            "740/740 [==============================] - 33s 45ms/step - loss: 7.0649e-04 - val_loss: 0.0032\n",
            "Epoch 84/100\n",
            "740/740 [==============================] - 34s 45ms/step - loss: 7.2235e-04 - val_loss: 0.0031\n",
            "Epoch 85/100\n",
            "740/740 [==============================] - 34s 46ms/step - loss: 7.1054e-04 - val_loss: 0.0033\n",
            "Epoch 86/100\n",
            "740/740 [==============================] - 34s 46ms/step - loss: 7.3230e-04 - val_loss: 0.0030\n",
            "Epoch 87/100\n",
            "740/740 [==============================] - 33s 45ms/step - loss: 7.1244e-04 - val_loss: 0.0033\n",
            "Epoch 88/100\n",
            "740/740 [==============================] - 33s 45ms/step - loss: 6.9820e-04 - val_loss: 0.0033\n",
            "Epoch 89/100\n",
            "740/740 [==============================] - 33s 45ms/step - loss: 6.8623e-04 - val_loss: 0.0032\n",
            "Epoch 90/100\n",
            "740/740 [==============================] - 34s 45ms/step - loss: 6.7761e-04 - val_loss: 0.0033\n",
            "Epoch 91/100\n",
            "740/740 [==============================] - 34s 46ms/step - loss: 7.0732e-04 - val_loss: 0.0032\n",
            "Epoch 92/100\n",
            "740/740 [==============================] - 33s 45ms/step - loss: 7.2141e-04 - val_loss: 0.0030\n",
            "Epoch 93/100\n",
            "740/740 [==============================] - 33s 45ms/step - loss: 7.0231e-04 - val_loss: 0.0039\n",
            "Epoch 94/100\n",
            "740/740 [==============================] - 34s 46ms/step - loss: 7.3546e-04 - val_loss: 0.0031\n",
            "Epoch 95/100\n",
            "740/740 [==============================] - 34s 46ms/step - loss: 6.6505e-04 - val_loss: 0.0033\n",
            "Epoch 96/100\n",
            "740/740 [==============================] - 34s 45ms/step - loss: 6.9350e-04 - val_loss: 0.0034\n",
            "Epoch 97/100\n",
            "740/740 [==============================] - 34s 45ms/step - loss: 6.7419e-04 - val_loss: 0.0031\n",
            "Epoch 98/100\n",
            "740/740 [==============================] - 34s 46ms/step - loss: 6.5384e-04 - val_loss: 0.0033\n",
            "Epoch 99/100\n",
            "740/740 [==============================] - 33s 45ms/step - loss: 7.4225e-04 - val_loss: 0.0031\n",
            "Epoch 100/100\n",
            "740/740 [==============================] - 33s 45ms/step - loss: 6.8050e-04 - val_loss: 0.0030\n"
          ]
        },
        {
          "output_type": "display_data",
          "data": {
            "text/plain": [
              "<Figure size 432x288 with 1 Axes>"
            ],
            "image/png": "[encoded data removed]"
          },
          "metadata": {
            "needs_background": "light"
          }
        }
      ],
      "source": [
        "# LSTM neural network\n",
        "model = Sequential()\n",
        "model.add(LSTM(128, activation='relu', input_shape=(nlags, xdim), return_sequences=True))\n",
        "model.add(Dropout(0.2))\n",
        "model.add(LSTM(64, activation='relu', return_sequences=False))\n",
        "model.add(Dropout(0.2))\n",
        "model.add(Dense(1, 'linear'))\n",
        "\n",
        "model.compile(optimizer='adam', loss='mse')\n",
        "\n",
        "fit = model.fit(X_train, y_train, epochs=100, batch_size=32, validation_split=0.1)\n",
        "\n",
        "loss = np.asarray(fit.history['loss'])\n",
        "plt.plot(fit.history['loss'], label='Training loss')\n",
        "plt.plot(fit.history['val_loss'], label='Validation loss')\n",
        "plt.legend()\n",
        "\n",
        "predicted = model.predict(X_test)\n",
        "to_inverse = np.repeat(predicted, xdim, axis=-1)\n",
        "lstmsx_24 = scaler.inverse_transform(to_inverse)[:,0]\n",
        "\n",
        "lstm_forecast24[:,2] = lstmsx_24\n",
        "np.savetxt('lstm_forecast24.csv', lstm_forecast24, delimiter=\",\")"
      ]
    },
    {
      "cell_type": "markdown",
      "metadata": {
        "id": "zHi1kdbuNSR5"
      },
      "source": [
        "## Export"
      ]
    },
    {
      "cell_type": "code",
      "execution_count": null,
      "metadata": {
        "id": "o-04hPFNzXoC"
      },
      "outputs": [],
      "source": [
        "lstm_forecast[:,0] = lstm_forecast_uni1"
      ]
    },
    {
      "cell_type": "code",
      "execution_count": null,
      "metadata": {
        "id": "BDqhFlHQNfE-"
      },
      "outputs": [],
      "source": [
        "# export\n",
        "np.savetxt('lstm_forecast.csv', lstm_forecast, delimiter=\",\")"
      ]
    },
    {
      "cell_type": "markdown",
      "metadata": {
        "id": "FEQ3qsNkLfE5"
      },
      "source": [
        "# Neural Prophet"
      ]
    },
    {
      "cell_type": "code",
      "execution_count": null,
      "metadata": {
        "id": "DOGzdoaqLFfQ"
      },
      "outputs": [],
      "source": [
        "!pip install neuralprophet[live]\n",
        "from neuralprophet import NeuralProphet"
      ]
    },
    {
      "cell_type": "code",
      "execution_count": null,
      "metadata": {
        "id": "R7T2xp1FNPCB"
      },
      "outputs": [],
      "source": [
        "df = train_set[['Time','Demand','Temperature']]\n",
        "df.columns = ['ds','y','T']"
      ]
    },
    {
      "cell_type": "code",
      "execution_count": null,
      "metadata": {
        "colab": {
          "base_uri": "https://localhost:8080/",
          "height": 356
        },
        "id": "WvlxfG-tLnGO",
        "outputId": "45ded347-b511-4941-da21-d6d6e3af4720"
      },
      "outputs": [
        {
          "ename": "AssertionError",
          "evalue": "ignored",
          "output_type": "error",
          "traceback": [
            "\u001b[0;31m---------------------------------------------------------------------------\u001b[0m",
            "\u001b[0;31mAssertionError\u001b[0m                            Traceback (most recent call last)",
            "\u001b[0;32m<ipython-input-109-87871c3cfc4b>\u001b[0m in \u001b[0;36m<module>\u001b[0;34m()\u001b[0m\n\u001b[1;32m      1\u001b[0m \u001b[0mm\u001b[0m \u001b[0;34m=\u001b[0m \u001b[0mNeuralProphet\u001b[0m\u001b[0;34m(\u001b[0m\u001b[0mn_lags\u001b[0m\u001b[0;34m=\u001b[0m\u001b[0;36m24\u001b[0m\u001b[0;34m)\u001b[0m\u001b[0;34m\u001b[0m\u001b[0;34m\u001b[0m\u001b[0m\n\u001b[1;32m      2\u001b[0m \u001b[0mm\u001b[0m \u001b[0;34m=\u001b[0m \u001b[0mm\u001b[0m\u001b[0;34m.\u001b[0m\u001b[0madd_country_holidays\u001b[0m\u001b[0;34m(\u001b[0m\u001b[0;34m'PL'\u001b[0m\u001b[0;34m)\u001b[0m\u001b[0;34m\u001b[0m\u001b[0;34m\u001b[0m\u001b[0m\n\u001b[0;32m----> 3\u001b[0;31m \u001b[0mm\u001b[0m \u001b[0;34m=\u001b[0m \u001b[0mm\u001b[0m\u001b[0;34m.\u001b[0m\u001b[0mhighlight_nth_step_ahead_of_each_forecast\u001b[0m\u001b[0;34m(\u001b[0m\u001b[0;36m24\u001b[0m\u001b[0;34m)\u001b[0m\u001b[0;34m\u001b[0m\u001b[0;34m\u001b[0m\u001b[0m\n\u001b[0m\u001b[1;32m      4\u001b[0m \u001b[0mm\u001b[0m \u001b[0;34m=\u001b[0m \u001b[0mm\u001b[0m\u001b[0;34m.\u001b[0m\u001b[0madd_lagged_regressor\u001b[0m\u001b[0;34m(\u001b[0m\u001b[0;34m'T'\u001b[0m\u001b[0;34m)\u001b[0m\u001b[0;34m\u001b[0m\u001b[0;34m\u001b[0m\u001b[0m\n\u001b[1;32m      5\u001b[0m \u001b[0;34m\u001b[0m\u001b[0m\n",
            "\u001b[0;32m/usr/local/lib/python3.7/dist-packages/neuralprophet/forecaster.py\u001b[0m in \u001b[0;36mhighlight_nth_step_ahead_of_each_forecast\u001b[0;34m(self, step_number)\u001b[0m\n\u001b[1;32m   1059\u001b[0m         \"\"\"\n\u001b[1;32m   1060\u001b[0m         \u001b[0;32mif\u001b[0m \u001b[0mstep_number\u001b[0m \u001b[0;32mis\u001b[0m \u001b[0;32mnot\u001b[0m \u001b[0;32mNone\u001b[0m\u001b[0;34m:\u001b[0m\u001b[0;34m\u001b[0m\u001b[0;34m\u001b[0m\u001b[0m\n\u001b[0;32m-> 1061\u001b[0;31m             \u001b[0;32massert\u001b[0m \u001b[0mstep_number\u001b[0m \u001b[0;34m<=\u001b[0m \u001b[0mself\u001b[0m\u001b[0;34m.\u001b[0m\u001b[0mn_forecasts\u001b[0m\u001b[0;34m\u001b[0m\u001b[0;34m\u001b[0m\u001b[0m\n\u001b[0m\u001b[1;32m   1062\u001b[0m         \u001b[0mself\u001b[0m\u001b[0;34m.\u001b[0m\u001b[0mhighlight_forecast_step_n\u001b[0m \u001b[0;34m=\u001b[0m \u001b[0mstep_number\u001b[0m\u001b[0;34m\u001b[0m\u001b[0;34m\u001b[0m\u001b[0m\n\u001b[1;32m   1063\u001b[0m         \u001b[0;32mreturn\u001b[0m \u001b[0mself\u001b[0m\u001b[0;34m\u001b[0m\u001b[0;34m\u001b[0m\u001b[0m\n",
            "\u001b[0;31mAssertionError\u001b[0m: "
          ]
        }
      ],
      "source": [
        "m = NeuralProphet(n_lags=24)\n",
        "m = m.add_country_holidays('PL')\n",
        "m = m.highlight_nth_step_ahead_of_each_forecast(24)\n",
        "m = m.add_lagged_regressor('T')\n",
        "\n",
        "metrics = m.fit(df, freq='H')\n",
        "\n"
      ]
    },
    {
      "cell_type": "code",
      "execution_count": null,
      "metadata": {
        "id": "WWnE9M08fc_K"
      },
      "outputs": [],
      "source": [
        "%reset-f"
      ]
    },
    {
      "cell_type": "code",
      "execution_count": null,
      "metadata": {
        "id": "nzMomcFzb7dA"
      },
      "outputs": [],
      "source": [
        "test_neural = DATA.loc['2018-12-31':]\n",
        "df_test = test_neural[['Time','Demand','Temperature']]\n",
        "df_test.columns = ['ds','y','T']"
      ]
    },
    {
      "cell_type": "code",
      "execution_count": null,
      "metadata": {
        "colab": {
          "base_uri": "https://localhost:8080/"
        },
        "id": "YJ86yy0WeZMQ",
        "outputId": "150c8d18-0df6-4504-94fb-64b1dfe013c4"
      },
      "outputs": [
        {
          "name": "stderr",
          "output_type": "stream",
          "text": [
            "INFO - (NP.df_utils._infer_frequency) - Major frequency H corresponds to 99.989% of the data.\n",
            "INFO - (NP.df_utils._infer_frequency) - Defined frequency is equal to major frequency - H\n",
            "INFO - (NP.df_utils._infer_frequency) - Major frequency H corresponds to 99.989% of the data.\n",
            "INFO - (NP.df_utils._infer_frequency) - Defined frequency is equal to major frequency - H\n"
          ]
        }
      ],
      "source": [
        "m = m.highlight_nth_step_ahead_of_each_forecast(1)\n",
        "forecast1 = m.predict(df_test)"
      ]
    },
    {
      "cell_type": "code",
      "execution_count": null,
      "metadata": {
        "id": "dupQVc00mpFu"
      },
      "outputs": [],
      "source": [
        "forecast1.iloc[25]"
      ]
    },
    {
      "cell_type": "code",
      "execution_count": null,
      "metadata": {
        "colab": {
          "base_uri": "https://localhost:8080/",
          "height": 304
        },
        "id": "cmDYntKQGF-h",
        "outputId": "b69dff05-cda6-41cc-a72a-19875d4d286e"
      },
      "outputs": [
        {
          "ename": "AssertionError",
          "evalue": "ignored",
          "output_type": "error",
          "traceback": [
            "\u001b[0;31m---------------------------------------------------------------------------\u001b[0m",
            "\u001b[0;31mAssertionError\u001b[0m                            Traceback (most recent call last)",
            "\u001b[0;32m<ipython-input-103-7f0b8a13d3d8>\u001b[0m in \u001b[0;36m<module>\u001b[0;34m()\u001b[0m\n\u001b[0;32m----> 1\u001b[0;31m \u001b[0mm\u001b[0m \u001b[0;34m=\u001b[0m \u001b[0mm\u001b[0m\u001b[0;34m.\u001b[0m\u001b[0mhighlight_nth_step_ahead_of_each_forecast\u001b[0m\u001b[0;34m(\u001b[0m\u001b[0;36m24\u001b[0m\u001b[0;34m)\u001b[0m\u001b[0;34m\u001b[0m\u001b[0;34m\u001b[0m\u001b[0m\n\u001b[0m\u001b[1;32m      2\u001b[0m \u001b[0mforecast24\u001b[0m \u001b[0;34m=\u001b[0m \u001b[0mm\u001b[0m\u001b[0;34m.\u001b[0m\u001b[0mpredict\u001b[0m\u001b[0;34m(\u001b[0m\u001b[0mdf_test\u001b[0m\u001b[0;34m)\u001b[0m\u001b[0;34m\u001b[0m\u001b[0;34m\u001b[0m\u001b[0m\n",
            "\u001b[0;32m/usr/local/lib/python3.7/dist-packages/neuralprophet/forecaster.py\u001b[0m in \u001b[0;36mhighlight_nth_step_ahead_of_each_forecast\u001b[0;34m(self, step_number)\u001b[0m\n\u001b[1;32m   1059\u001b[0m         \"\"\"\n\u001b[1;32m   1060\u001b[0m         \u001b[0;32mif\u001b[0m \u001b[0mstep_number\u001b[0m \u001b[0;32mis\u001b[0m \u001b[0;32mnot\u001b[0m \u001b[0;32mNone\u001b[0m\u001b[0;34m:\u001b[0m\u001b[0;34m\u001b[0m\u001b[0;34m\u001b[0m\u001b[0m\n\u001b[0;32m-> 1061\u001b[0;31m             \u001b[0;32massert\u001b[0m \u001b[0mstep_number\u001b[0m \u001b[0;34m<=\u001b[0m \u001b[0mself\u001b[0m\u001b[0;34m.\u001b[0m\u001b[0mn_forecasts\u001b[0m\u001b[0;34m\u001b[0m\u001b[0;34m\u001b[0m\u001b[0m\n\u001b[0m\u001b[1;32m   1062\u001b[0m         \u001b[0mself\u001b[0m\u001b[0;34m.\u001b[0m\u001b[0mhighlight_forecast_step_n\u001b[0m \u001b[0;34m=\u001b[0m \u001b[0mstep_number\u001b[0m\u001b[0;34m\u001b[0m\u001b[0;34m\u001b[0m\u001b[0m\n\u001b[1;32m   1063\u001b[0m         \u001b[0;32mreturn\u001b[0m \u001b[0mself\u001b[0m\u001b[0;34m\u001b[0m\u001b[0;34m\u001b[0m\u001b[0m\n",
            "\u001b[0;31mAssertionError\u001b[0m: "
          ]
        }
      ],
      "source": [
        "forecast24 = m.predict(df_test)"
      ]
    },
    {
      "cell_type": "code",
      "execution_count": null,
      "metadata": {
        "id": "x0okvQ_BzQI1"
      },
      "outputs": [],
      "source": [
        "# export\n",
        "to_export = forecast['yhat1']\n",
        "to_export.to_csv('neural_forecast.csv',index=False)"
      ]
    },
    {
      "cell_type": "code",
      "execution_count": null,
      "metadata": {
        "id": "4DhcAaK_DXah"
      },
      "outputs": [],
      "source": [
        "test_neural2 = DATA.loc['2018-12-31':'2019-01-08']\n",
        "df_test2 = test_neural[['Time','Demand','Temperature']]\n",
        "df_test2.columns = ['ds','y','T']\n",
        "forecast2 = m.predict(df_test2)"
      ]
    },
    {
      "cell_type": "code",
      "execution_count": null,
      "metadata": {
        "id": "okAfOF2BDgCO"
      },
      "outputs": [],
      "source": [
        "test_neural3 = DATA.loc['2018-12-31':]\n",
        "df_test3 = test_neural[['Time','Demand','Temperature']]\n",
        "df_test3.columns = ['ds','y','T']\n",
        "forecast3 = m.predict(df_test3)"
      ]
    },
    {
      "cell_type": "code",
      "execution_count": null,
      "metadata": {
        "id": "ICGJm46IlSmN"
      },
      "outputs": [],
      "source": []
    },
    {
      "cell_type": "code",
      "execution_count": null,
      "metadata": {
        "id": "91hyxFVUarf6"
      },
      "outputs": [],
      "source": [
        "m.test(df_test)"
      ]
    }
  ],
  "metadata": {
    "colab": {
      "provenance": []
    },
    "kernelspec": {
      "display_name": "Python 3",
      "name": "python3"
    },
    "language_info": {
      "name": "python"
    }
  },
  "nbformat": 4,
  "nbformat_minor": 0
}